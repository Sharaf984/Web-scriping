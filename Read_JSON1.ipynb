{
    "cells": [
        {
            "metadata": {},
            "cell_type": "code",
            "source": "import json\n\ndata = '''\n[\n  { \"id\" : \"001\",\n    \"x\" : \"2\",\n    \"name\" : \"Chuck\"\n  } ,\n  { \"id\" : \"009\",\n    \"x\" : \"7\",\n    \"name\" : \"Brent\"\n  }\n]'''\n\ninfo = json.loads(data)\nprint('User count:', len(info))\n\nfor item in info:\n    print('Name', item['name'])\n    print('Id', item['id'])\n    print('Attribute', item['x'])\n",
            "execution_count": 1,
            "outputs": [
                {
                    "output_type": "stream",
                    "text": "User count: 2\nName Chuck\nId 001\nAttribute 2\nName Brent\nId 009\nAttribute 7\n",
                    "name": "stdout"
                }
            ]
        },
        {
            "metadata": {},
            "cell_type": "code",
            "source": "",
            "execution_count": null,
            "outputs": []
        }
    ],
    "metadata": {
        "kernelspec": {
            "name": "python3",
            "display_name": "Python 3.7",
            "language": "python"
        },
        "language_info": {
            "name": "python",
            "version": "3.7.9",
            "mimetype": "text/x-python",
            "codemirror_mode": {
                "name": "ipython",
                "version": 3
            },
            "pygments_lexer": "ipython3",
            "nbconvert_exporter": "python",
            "file_extension": ".py"
        }
    },
    "nbformat": 4,
    "nbformat_minor": 1
}