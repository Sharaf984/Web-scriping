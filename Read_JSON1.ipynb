{
    "cells": [
        {
            "metadata": {},
            "cell_type": "code",
            "source": "import json\nimport urllib.request, urllib.parse, urllib.error\nimport ssl\n\n# Ignore SSL certificate errors\nctx = ssl.create_default_context()\nctx.check_hostname = False\nctx.verify_mode = ssl.CERT_NONE\n\n#Enter the json path\njson_file = input(\"Enter file name: \")\n\n#Open Json file by urllib \nurl = json_file\nprint('Retrieving', url)\nuh = urllib.request.urlopen(url, context=ctx)\n\n\n#start read data\ndata = uh.read()\nprint('Retrieved', len(data), 'characters')\n#print(data.decode())\n\ncount=0\nsum1=0\ninfo = json.loads(data)\n\nfor value in info[\"comments\"]:\n    sum1=sum1+value['count']\n    count=count+1  \nprint('count: ',count)\nprint('sum: ',sum1)",
            "execution_count": 42,
            "outputs": [
                {
                    "output_type": "stream",
                    "name": "stdout",
                    "text": "Enter file name: http://py4e-data.dr-chuck.net/comments_1101090.json\nRetrieving http://py4e-data.dr-chuck.net/comments_1101090.json\nRetrieved 2740 characters\ncount:  50\nsum:  2369\n"
                }
            ]
        },
        {
            "metadata": {},
            "cell_type": "code",
            "source": "",
            "execution_count": null,
            "outputs": []
        },
        {
            "metadata": {},
            "cell_type": "code",
            "source": "",
            "execution_count": null,
            "outputs": []
        }
    ],
    "metadata": {
        "kernelspec": {
            "name": "python3",
            "display_name": "Python 3.7",
            "language": "python"
        },
        "language_info": {
            "name": "python",
            "version": "3.7.9",
            "mimetype": "text/x-python",
            "codemirror_mode": {
                "name": "ipython",
                "version": 3
            },
            "pygments_lexer": "ipython3",
            "nbconvert_exporter": "python",
            "file_extension": ".py"
        }
    },
    "nbformat": 4,
    "nbformat_minor": 1
}