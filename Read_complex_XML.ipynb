{
    "cells": [
        {
            "metadata": {},
            "cell_type": "code",
            "source": "import xml.etree.ElementTree as ET\n\ninput = '''\n<stuff>\n  <users>\n    <user x=\"2\">\n      <id>001</id>\n      <name>Chuck</name>\n    </user>\n    <user Z=\"7\">\n      <id>009</id>\n      <name>Brent</name>\n    </user>\n  </users>\n</stuff>'''\n\nstuff = ET.fromstring(input)\nlst = stuff.findall('users/user')\nprint('User count:', len(lst))\n\nfor item in lst:\n    print('Name', item.find('name').text)\n    print('Id', item.find('id').text)\n    print('Attribute', item.get('Z'))\n",
            "execution_count": 2,
            "outputs": [
                {
                    "output_type": "stream",
                    "text": "User count: 2\nName Chuck\nId 001\nAttribute None\nName Brent\nId 009\nAttribute 7\n",
                    "name": "stdout"
                }
            ]
        },
        {
            "metadata": {},
            "cell_type": "code",
            "source": "",
            "execution_count": null,
            "outputs": []
        }
    ],
    "metadata": {
        "kernelspec": {
            "name": "python3",
            "display_name": "Python 3.7",
            "language": "python"
        },
        "language_info": {
            "name": "python",
            "version": "3.7.9",
            "mimetype": "text/x-python",
            "codemirror_mode": {
                "name": "ipython",
                "version": 3
            },
            "pygments_lexer": "ipython3",
            "nbconvert_exporter": "python",
            "file_extension": ".py"
        }
    },
    "nbformat": 4,
    "nbformat_minor": 1
}