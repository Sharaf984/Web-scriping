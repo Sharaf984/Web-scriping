{
    "cells": [
        {
            "metadata": {},
            "cell_type": "code",
            "source": "import urllib.request, urllib.parse, urllib.error\nimport xml.etree.ElementTree as ET\nimport ssl\n\n# Ignore SSL certificate errors\nctx = ssl.create_default_context()\nctx.check_hostname = False\nctx.verify_mode = ssl.CERT_NONE\n\n#Enter the xml path\nxml_file = input(\"Enter file name: \")\n\n#Open xml file by urllib \nurl = xml_file\nprint('Retrieving', url)\nuh = urllib.request.urlopen(url, context=ctx)\n\n#start read data\ndata = uh.read()\nprint('Retrieved', len(data), 'characters')\n#print(data.decode())\n\n#read all tree xml file\ntree = ET.fromstring(data)\n\n# convert all tree to list of small tree\nlst = tree.findall('comments/comment')\nprint('User count:', len(lst))\n\nsum_num=0\n#calculat sum\nfor item in lst:\n    #print('Name', item.find('name').text)\n    #print('Id', item.find('count').text)\n    sum_num=sum_num+int(item.find('count').text)\nprint('sum :',sum_num)\n\n\n",
            "execution_count": 11,
            "outputs": [
                {
                    "output_type": "stream",
                    "name": "stdout",
                    "text": "Enter file name: http://py4e-data.dr-chuck.net/comments_1101089.xml\nRetrieving http://py4e-data.dr-chuck.net/comments_1101089.xml\nRetrieved 4207 characters\nUser count: 50\nsum : 2435\n"
                }
            ]
        },
        {
            "metadata": {},
            "cell_type": "code",
            "source": "",
            "execution_count": null,
            "outputs": []
        },
        {
            "metadata": {},
            "cell_type": "code",
            "source": "",
            "execution_count": null,
            "outputs": []
        },
        {
            "metadata": {},
            "cell_type": "code",
            "source": "",
            "execution_count": null,
            "outputs": []
        }
    ],
    "metadata": {
        "kernelspec": {
            "name": "python3",
            "display_name": "Python 3.7",
            "language": "python"
        },
        "language_info": {
            "name": "python",
            "version": "3.7.9",
            "mimetype": "text/x-python",
            "codemirror_mode": {
                "name": "ipython",
                "version": 3
            },
            "pygments_lexer": "ipython3",
            "nbconvert_exporter": "python",
            "file_extension": ".py"
        }
    },
    "nbformat": 4,
    "nbformat_minor": 1
}