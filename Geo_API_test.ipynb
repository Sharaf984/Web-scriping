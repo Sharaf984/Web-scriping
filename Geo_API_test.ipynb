{
    "cells": [
        {
            "metadata": {},
            "cell_type": "code",
            "source": "import urllib.request, urllib.parse, urllib.error\nimport json\nimport ssl\n\napi_key = False\n# If you have a Google Places API key, enter it here\n# api_key = 'AIzaSy___IDByT70'\n# https://developers.google.com/maps/documentation/geocoding/intro\n\nif api_key is False:\n    api_key = 42\n    serviceurl = 'http://py4e-data.dr-chuck.net/json?'\nelse :\n    serviceurl = 'https://maps.googleapis.com/maps/api/geocode/json?'\n\n# Ignore SSL certificate errors\nctx = ssl.create_default_context()\nctx.check_hostname = False\nctx.verify_mode = ssl.CERT_NONE\n\nwhile True:\n    address = input('Enter location: ')\n    if len(address) < 1: break\n\n    parms = dict()\n    parms['address'] = address\n    if api_key is not False: parms['key'] = api_key\n    url = serviceurl + urllib.parse.urlencode(parms)\n\n    print('Retrieving', url)\n    uh = urllib.request.urlopen(url, context=ctx)\n    data = uh.read().decode()\n    print('Retrieved', len(data), 'characters')\n\n    try:\n        js = json.loads(data)\n        \n    except:\n        js = None\n\n    if not js or 'status' not in js or js['status'] != 'OK':\n        print('==== Failure To Retrieve ====')\n        print(data)\n        \n        continue\n\n    print(json.dumps(js, indent=4))\n\n    lat = js['results'][0]['geometry']['location']['lat']\n    lng = js['results'][0]['geometry']['location']['lng']\n    print('lat', lat, 'lng', lng)\n    location = js['results'][0]['formatted_address']\n    print(location)",
            "execution_count": null,
            "outputs": [
                {
                    "output_type": "stream",
                    "name": "stdout",
                    "text": "Enter location: Universidad Tecnologica Boliviana\nRetrieving http://py4e-data.dr-chuck.net/json?address=Universidad+Tecnologica+Boliviana&key=42\nRetrieved 2185 characters\n{\n    \"results\": [\n        {\n            \"address_components\": [\n                {\n                    \"long_name\": \"154\",\n                    \"short_name\": \"154\",\n                    \"types\": [\n                        \"street_number\"\n                    ]\n                },\n                {\n                    \"long_name\": \"Calle Colombia\",\n                    \"short_name\": \"Calle Colombia\",\n                    \"types\": [\n                        \"route\"\n                    ]\n                },\n                {\n                    \"long_name\": \"Macrodistrito Cotahuma\",\n                    \"short_name\": \"Macrodistrito Cotahuma\",\n                    \"types\": [\n                        \"political\",\n                        \"sublocality\",\n                        \"sublocality_level_1\"\n                    ]\n                },\n                {\n                    \"long_name\": \"La Paz\",\n                    \"short_name\": \"La Paz\",\n                    \"types\": [\n                        \"locality\",\n                        \"political\"\n                    ]\n                },\n                {\n                    \"long_name\": \"Murillo\",\n                    \"short_name\": \"Murillo\",\n                    \"types\": [\n                        \"administrative_area_level_2\",\n                        \"political\"\n                    ]\n                },\n                {\n                    \"long_name\": \"Departamento de La Paz\",\n                    \"short_name\": \"Departamento de La Paz\",\n                    \"types\": [\n                        \"administrative_area_level_1\",\n                        \"political\"\n                    ]\n                },\n                {\n                    \"long_name\": \"Bolivia\",\n                    \"short_name\": \"BO\",\n                    \"types\": [\n                        \"country\",\n                        \"political\"\n                    ]\n                }\n            ],\n            \"formatted_address\": \"Calle Colombia 154, La Paz, Bolivia\",\n            \"geometry\": {\n                \"location\": {\n                    \"lat\": -16.500656,\n                    \"lng\": -68.134299\n                },\n                \"location_type\": \"ROOFTOP\",\n                \"viewport\": {\n                    \"northeast\": {\n                        \"lat\": -16.4993070197085,\n                        \"lng\": -68.13295001970849\n                    },\n                    \"southwest\": {\n                        \"lat\": -16.5020049802915,\n                        \"lng\": -68.13564798029151\n                    }\n                }\n            },\n            \"place_id\": \"ChIJBW4w9HAgX5ER-bRTcRn-aN0\",\n            \"plus_code\": {\n                \"compound_code\": \"FVX8+P7 La Paz, Bolivia\",\n                \"global_code\": \"57MHFVX8+P7\"\n            },\n            \"types\": [\n                \"establishment\",\n                \"point_of_interest\",\n                \"university\"\n            ]\n        }\n    ],\n    \"status\": \"OK\"\n}\nlat -16.500656 lng -68.134299\nCalle Colombia 154, La Paz, Bolivia\n"
                }
            ]
        },
        {
            "metadata": {},
            "cell_type": "code",
            "source": "",
            "execution_count": null,
            "outputs": []
        }
    ],
    "metadata": {
        "kernelspec": {
            "name": "python3",
            "display_name": "Python 3.7",
            "language": "python"
        },
        "language_info": {
            "name": "python",
            "version": "3.7.9",
            "mimetype": "text/x-python",
            "codemirror_mode": {
                "name": "ipython",
                "version": 3
            },
            "pygments_lexer": "ipython3",
            "nbconvert_exporter": "python",
            "file_extension": ".py"
        }
    },
    "nbformat": 4,
    "nbformat_minor": 1
}