{
    "cells": [
        {
            "metadata": {},
            "cell_type": "code",
            "source": "import urllib.request,urllib.parse,urllib.error\nimg=urllib.request.urlopen('http://data.pr4e.org/cover3.jpg').read()\nfh=open('cover3.jpg','wb')\nfh.write(img)\nprint(len(img))\nfh.close()",
            "execution_count": 1,
            "outputs": [
                {
                    "output_type": "stream",
                    "text": "230210\n",
                    "name": "stdout"
                }
            ]
        },
        {
            "metadata": {},
            "cell_type": "code",
            "source": "",
            "execution_count": null,
            "outputs": []
        }
    ],
    "metadata": {
        "kernelspec": {
            "name": "python3",
            "display_name": "Python 3.7",
            "language": "python"
        },
        "language_info": {
            "name": "python",
            "version": "3.7.9",
            "mimetype": "text/x-python",
            "codemirror_mode": {
                "name": "ipython",
                "version": 3
            },
            "pygments_lexer": "ipython3",
            "nbconvert_exporter": "python",
            "file_extension": ".py"
        }
    },
    "nbformat": 4,
    "nbformat_minor": 1
}