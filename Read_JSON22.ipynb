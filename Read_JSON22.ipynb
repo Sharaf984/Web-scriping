{
    "cells": [
        {
            "metadata": {},
            "cell_type": "code",
            "source": "import json\n\ndata = '''\n{\n  \"name\" : \"Chuck\",\n  \"phone\" : {\n    \"type\" : \"intl\",\n    \"number\" : \"+1 734 303 4456\"\n   },\n   \"email\" : {\n     \"hide\" : \"yes\"\n   }\n}'''\n\ninfo = json.loads(data)\nprint('Name:', info[\"name\"])\nprint('Hide:', info[\"email\"][\"hide\"])\n",
            "execution_count": 1,
            "outputs": [
                {
                    "output_type": "stream",
                    "text": "Name: Chuck\nHide: yes\n",
                    "name": "stdout"
                }
            ]
        },
        {
            "metadata": {},
            "cell_type": "code",
            "source": "",
            "execution_count": null,
            "outputs": []
        }
    ],
    "metadata": {
        "kernelspec": {
            "name": "python3",
            "display_name": "Python 3.7",
            "language": "python"
        },
        "language_info": {
            "name": "python",
            "version": "3.7.9",
            "mimetype": "text/x-python",
            "codemirror_mode": {
                "name": "ipython",
                "version": 3
            },
            "pygments_lexer": "ipython3",
            "nbconvert_exporter": "python",
            "file_extension": ".py"
        }
    },
    "nbformat": 4,
    "nbformat_minor": 1
}