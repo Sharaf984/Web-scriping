{
    "cells": [
        {
            "metadata": {},
            "cell_type": "code",
            "source": "import xml.etree.ElementTree as ET\n\ndata = '''\n<person>\n  <name>Chuck</name>\n  <phone type=\"intl\">\n    +1 734 303 4456\n  </phone>\n  <email hide=\"No\" />\n</person>'''\n\ntree = ET.fromstring(data)\nprint('Phone:', tree.find('phone').text)\nprint('Attr:', tree.find('email').get('hide'))\n",
            "execution_count": 4,
            "outputs": [
                {
                    "output_type": "stream",
                    "text": "Phone: \n    +1 734 303 4456\n  \nAttr: No\n",
                    "name": "stdout"
                }
            ]
        },
        {
            "metadata": {},
            "cell_type": "code",
            "source": "",
            "execution_count": null,
            "outputs": []
        }
    ],
    "metadata": {
        "kernelspec": {
            "name": "python3",
            "display_name": "Python 3.7",
            "language": "python"
        },
        "language_info": {
            "name": "python",
            "version": "3.7.9",
            "mimetype": "text/x-python",
            "codemirror_mode": {
                "name": "ipython",
                "version": 3
            },
            "pygments_lexer": "ipython3",
            "nbconvert_exporter": "python",
            "file_extension": ".py"
        }
    },
    "nbformat": 4,
    "nbformat_minor": 1
}